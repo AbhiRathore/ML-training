{
 "cells": [
  {
   "cell_type": "markdown",
   "metadata": {},
   "source": [
    "### Understanding Keras embedding"
   ]
  },
  {
   "cell_type": "markdown",
   "metadata": {},
   "source": [
    "The Embedding layer is defined as the first hidden layer of a network. It must specify 3 arguments:\n",
    "\n",
    "It must specify 3 arguments:\n",
    "\n",
    "* input_dim: This is the size of the vocabulary in the text data. For example, if your data is integer encoded to values between 0-10, then the size of the vocabulary would be 11 words.\n",
    "* output_dim: This is the size of the vector space in which words will be embedded. It defines the size of the output vectors from this layer for each word. For example, it could be 32 or 100 or even larger. Test different values for your problem.\n",
    "* input_length: This is the length of input sequences, as you would define for any input layer of a Keras model. For example, if all of your input documents are comprised of 1000 words, this would be 1000."
   ]
  },
  {
   "cell_type": "code",
   "execution_count": null,
   "metadata": {},
   "outputs": [],
   "source": []
  },
  {
   "cell_type": "code",
   "execution_count": 3,
   "metadata": {},
   "outputs": [],
   "source": [
    "from numpy import array\n",
    "from keras.preprocessing.text import one_hot\n",
    "from keras.preprocessing.sequence import pad_sequences\n",
    "from keras.models import Sequential\n",
    "from keras.layers import Dense\n",
    "from keras.layers import Flatten\n",
    "from keras.layers.embeddings import Embedding\n",
    "# define documents\n",
    "docs = ['Well done!',\n",
    "'Good work',\n",
    "'Great effort',\n",
    "'nice work',\n",
    "'Excellent!',\n",
    "'Weak',\n",
    "'Poor effort!',\n",
    "'not good',\n",
    "'poor work',\n",
    "'Could have done better.']\n",
    "# define class labels\n",
    "labels = array([1,1,1,1,1,0,0,0,0,0])\n"
   ]
  },
  {
   "cell_type": "code",
   "execution_count": 10,
   "metadata": {},
   "outputs": [
    {
     "name": "stdout",
     "output_type": "stream",
     "text": [
      "[[17, 20], [21, 17], [8, 28], [26, 17], [22], [24], [28, 28], [25, 21], [28, 17], [38, 35, 20, 31]]\n",
      "[[17 20  0  0]\n",
      " [21 17  0  0]\n",
      " [ 8 28  0  0]\n",
      " [26 17  0  0]\n",
      " [22  0  0  0]\n",
      " [24  0  0  0]\n",
      " [28 28  0  0]\n",
      " [25 21  0  0]\n",
      " [28 17  0  0]\n",
      " [38 35 20 31]]\n"
     ]
    }
   ],
   "source": [
    "# integer encode the documents\n",
    "vocab_size = 40\n",
    "encoded_docs = [one_hot(d, vocab_size) for d in docs]\n",
    "print(encoded_docs)\n",
    "# pad documents to a max length of 4 words\n",
    "max_length = 4\n",
    "padded_docs = pad_sequences(encoded_docs, maxlen=max_length, padding='post')\n",
    "print(padded_docs)\n"
   ]
  },
  {
   "cell_type": "code",
   "execution_count": 5,
   "metadata": {},
   "outputs": [],
   "source": [
    "# define the model\n",
    "model = Sequential()\n",
    "model.add(Embedding(vocab_size, 8, input_length=max_length))\n",
    "model.add(Flatten())\n",
    "model.add(Dense(1, activation='sigmoid'))\n"
   ]
  },
  {
   "cell_type": "code",
   "execution_count": 6,
   "metadata": {},
   "outputs": [
    {
     "name": "stdout",
     "output_type": "stream",
     "text": [
      "_________________________________________________________________\n",
      "Layer (type)                 Output Shape              Param #   \n",
      "=================================================================\n",
      "embedding_2 (Embedding)      (None, 4, 8)              400       \n",
      "_________________________________________________________________\n",
      "flatten_2 (Flatten)          (None, 32)                0         \n",
      "_________________________________________________________________\n",
      "dense_2 (Dense)              (None, 1)                 33        \n",
      "=================================================================\n",
      "Total params: 433\n",
      "Trainable params: 433\n",
      "Non-trainable params: 0\n",
      "_________________________________________________________________\n",
      "None\n"
     ]
    }
   ],
   "source": [
    "# compile the model\n",
    "model.compile(optimizer='adam', loss='binary_crossentropy', metrics=['accuracy'])\n",
    "# summarize the model\n",
    "print(model.summary())\n"
   ]
  },
  {
   "cell_type": "code",
   "execution_count": 9,
   "metadata": {},
   "outputs": [
    {
     "name": "stdout",
     "output_type": "stream",
     "text": [
      "Epoch 1/50\n",
      "10/10 [==============================] - 0s 599us/step - loss: 0.6243 - acc: 0.9000\n",
      "Epoch 2/50\n",
      "10/10 [==============================] - 0s 398us/step - loss: 0.6226 - acc: 0.9000\n",
      "Epoch 3/50\n",
      "10/10 [==============================] - 0s 500us/step - loss: 0.6208 - acc: 0.9000\n",
      "Epoch 4/50\n",
      "10/10 [==============================] - 0s 400us/step - loss: 0.6191 - acc: 0.9000\n",
      "Epoch 5/50\n",
      "10/10 [==============================] - 0s 498us/step - loss: 0.6174 - acc: 0.9000\n",
      "Epoch 6/50\n",
      "10/10 [==============================] - 0s 500us/step - loss: 0.6156 - acc: 0.9000\n",
      "Epoch 7/50\n",
      "10/10 [==============================] - 0s 399us/step - loss: 0.6138 - acc: 0.9000\n",
      "Epoch 8/50\n",
      "10/10 [==============================] - 0s 399us/step - loss: 0.6120 - acc: 0.9000\n",
      "Epoch 9/50\n",
      "10/10 [==============================] - 0s 498us/step - loss: 0.6102 - acc: 0.9000\n",
      "Epoch 10/50\n",
      "10/10 [==============================] - 0s 503us/step - loss: 0.6084 - acc: 0.9000\n",
      "Epoch 11/50\n",
      "10/10 [==============================] - 0s 496us/step - loss: 0.6066 - acc: 0.9000\n",
      "Epoch 12/50\n",
      "10/10 [==============================] - 0s 495us/step - loss: 0.6047 - acc: 0.9000\n",
      "Epoch 13/50\n",
      "10/10 [==============================] - 0s 498us/step - loss: 0.6029 - acc: 0.9000\n",
      "Epoch 14/50\n",
      "10/10 [==============================] - 0s 495us/step - loss: 0.6010 - acc: 0.9000\n",
      "Epoch 15/50\n",
      "10/10 [==============================] - 0s 399us/step - loss: 0.5991 - acc: 0.9000\n",
      "Epoch 16/50\n",
      "10/10 [==============================] - 0s 498us/step - loss: 0.5972 - acc: 0.9000\n",
      "Epoch 17/50\n",
      "10/10 [==============================] - 0s 501us/step - loss: 0.5953 - acc: 0.9000\n",
      "Epoch 18/50\n",
      "10/10 [==============================] - 0s 399us/step - loss: 0.5934 - acc: 0.9000\n",
      "Epoch 19/50\n",
      "10/10 [==============================] - 0s 499us/step - loss: 0.5915 - acc: 0.9000\n",
      "Epoch 20/50\n",
      "10/10 [==============================] - 0s 499us/step - loss: 0.5895 - acc: 0.9000\n",
      "Epoch 21/50\n",
      "10/10 [==============================] - 0s 400us/step - loss: 0.5876 - acc: 0.9000\n",
      "Epoch 22/50\n",
      "10/10 [==============================] - 0s 399us/step - loss: 0.5856 - acc: 0.9000\n",
      "Epoch 23/50\n",
      "10/10 [==============================] - 0s 395us/step - loss: 0.5837 - acc: 0.9000\n",
      "Epoch 24/50\n",
      "10/10 [==============================] - 0s 499us/step - loss: 0.5817 - acc: 0.9000\n",
      "Epoch 25/50\n",
      "10/10 [==============================] - 0s 499us/step - loss: 0.5797 - acc: 0.9000\n",
      "Epoch 26/50\n",
      "10/10 [==============================] - 0s 500us/step - loss: 0.5777 - acc: 0.9000\n",
      "Epoch 27/50\n",
      "10/10 [==============================] - 0s 398us/step - loss: 0.5757 - acc: 0.9000\n",
      "Epoch 28/50\n",
      "10/10 [==============================] - 0s 398us/step - loss: 0.5737 - acc: 0.9000\n",
      "Epoch 29/50\n",
      "10/10 [==============================] - 0s 398us/step - loss: 0.5716 - acc: 0.9000\n",
      "Epoch 30/50\n",
      "10/10 [==============================] - 0s 394us/step - loss: 0.5696 - acc: 0.9000\n",
      "Epoch 31/50\n",
      "10/10 [==============================] - 0s 499us/step - loss: 0.5676 - acc: 0.9000\n",
      "Epoch 32/50\n",
      "10/10 [==============================] - 0s 500us/step - loss: 0.5655 - acc: 0.9000\n",
      "Epoch 33/50\n",
      "10/10 [==============================] - 0s 396us/step - loss: 0.5634 - acc: 0.9000\n",
      "Epoch 34/50\n",
      "10/10 [==============================] - 0s 499us/step - loss: 0.5614 - acc: 0.9000\n",
      "Epoch 35/50\n",
      "10/10 [==============================] - 0s 500us/step - loss: 0.5593 - acc: 0.9000\n",
      "Epoch 36/50\n",
      "10/10 [==============================] - 0s 399us/step - loss: 0.5572 - acc: 0.9000\n",
      "Epoch 37/50\n",
      "10/10 [==============================] - 0s 497us/step - loss: 0.5551 - acc: 0.9000\n",
      "Epoch 38/50\n",
      "10/10 [==============================] - 0s 498us/step - loss: 0.5530 - acc: 0.9000\n",
      "Epoch 39/50\n",
      "10/10 [==============================] - 0s 400us/step - loss: 0.5509 - acc: 0.9000\n",
      "Epoch 40/50\n",
      "10/10 [==============================] - 0s 499us/step - loss: 0.5488 - acc: 0.9000\n",
      "Epoch 41/50\n",
      "10/10 [==============================] - 0s 495us/step - loss: 0.5467 - acc: 0.9000\n",
      "Epoch 42/50\n",
      "10/10 [==============================] - 0s 396us/step - loss: 0.5445 - acc: 0.9000\n",
      "Epoch 43/50\n",
      "10/10 [==============================] - 0s 399us/step - loss: 0.5424 - acc: 0.9000\n",
      "Epoch 44/50\n",
      "10/10 [==============================] - 0s 399us/step - loss: 0.5403 - acc: 0.9000\n",
      "Epoch 45/50\n",
      "10/10 [==============================] - 0s 399us/step - loss: 0.5381 - acc: 0.9000\n",
      "Epoch 46/50\n",
      "10/10 [==============================] - 0s 499us/step - loss: 0.5360 - acc: 0.9000\n",
      "Epoch 47/50\n",
      "10/10 [==============================] - 0s 399us/step - loss: 0.5338 - acc: 0.9000\n",
      "Epoch 48/50\n",
      "10/10 [==============================] - 0s 499us/step - loss: 0.5316 - acc: 0.9000\n",
      "Epoch 49/50\n",
      "10/10 [==============================] - 0s 498us/step - loss: 0.5295 - acc: 0.9000\n",
      "Epoch 50/50\n",
      "10/10 [==============================] - 0s 500us/step - loss: 0.5273 - acc: 0.9000\n"
     ]
    },
    {
     "data": {
      "text/plain": [
       "<keras.callbacks.History at 0x1fbbca2f160>"
      ]
     },
     "execution_count": 9,
     "metadata": {},
     "output_type": "execute_result"
    }
   ],
   "source": [
    "# fit the model\n",
    "model.fit(padded_docs, labels, epochs=50, verbose=1)\n"
   ]
  },
  {
   "cell_type": "code",
   "execution_count": 8,
   "metadata": {},
   "outputs": [
    {
     "name": "stdout",
     "output_type": "stream",
     "text": [
      "Accuracy: 89.999998\n"
     ]
    }
   ],
   "source": [
    "# evaluate the model\n",
    "loss, accuracy = model.evaluate(padded_docs, labels, verbose=0)\n",
    "print('Accuracy: %f' % (accuracy*100))"
   ]
  },
  {
   "cell_type": "code",
   "execution_count": null,
   "metadata": {},
   "outputs": [],
   "source": []
  }
 ],
 "metadata": {
  "kernelspec": {
   "display_name": "Python 3",
   "language": "python",
   "name": "python3"
  },
  "language_info": {
   "codemirror_mode": {
    "name": "ipython",
    "version": 3
   },
   "file_extension": ".py",
   "mimetype": "text/x-python",
   "name": "python",
   "nbconvert_exporter": "python",
   "pygments_lexer": "ipython3",
   "version": "3.5.5"
  }
 },
 "nbformat": 4,
 "nbformat_minor": 2
}
